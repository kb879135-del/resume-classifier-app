{
 "cells": [
  {
   "cell_type": "raw",
   "id": "724d98ad-7878-4bfc-93d7-00d70d56f1b0",
   "metadata": {},
   "source": [
    "\n",
    "import os\n",
    "\n",
    "print(os.listdir(\"Resume\"))\n"
   ]
  },
  {
   "cell_type": "code",
   "execution_count": null,
   "id": "84179da9-769d-4d85-ace1-393060769eac",
   "metadata": {},
   "outputs": [],
   "source": []
  }
 ],
 "metadata": {
  "kernelspec": {
   "display_name": "Python 3 (ipykernel)",
   "language": "python",
   "name": "python3"
  },
  "language_info": {
   "name": ""
  }
 },
 "nbformat": 4,
 "nbformat_minor": 5
}
