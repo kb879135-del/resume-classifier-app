{
 "cells": [
  {
   "cell_type": "code",
   "execution_count": null,
   "id": "4f8505a1-35d5-498a-9a33-78109d4f6b08",
   "metadata": {},
   "outputs": [],
   "source": []
  }
 ],
 "metadata": {
  "kernelspec": {
   "display_name": "",
   "name": ""
  },
  "language_info": {
   "name": ""
  }
 },
 "nbformat": 4,
 "nbformat_minor": 5
}
